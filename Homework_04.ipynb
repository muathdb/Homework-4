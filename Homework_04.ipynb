{
 "cells": [
  {
   "cell_type": "markdown",
   "metadata": {},
   "source": [
    "# Homework 04:  More Tools for the Toolbox: Null Values, Categorical Features, and Cross Validation\n",
    "\n",
    "In this homework, we are going to add three tools to your toolbox which will be essential when you work with real datasets:\n",
    "1. What do we do with null-values?\n",
    "2. How do we deal with non-numeric features?\n",
    "3. What validation strategy provides the best estimate of the final testing score?\n",
    "\n",
    "For (1), we'll explore several ways of dealing with null values:\n",
    "- Removing columns with too many null values,\n",
    "- Imputing values for missing categorical labels using the \"most frequent\" category strategy, and\n",
    "- Imputing values for missing numeric values using the median. \n",
    "\n",
    "\n",
    "For (2), we'll use ordinal encoding to replace categorical labels with floats.\n",
    "\n",
    "For (3), we'll try three different cross-validation strategies:\n",
    "\n",
    "- 5-Fold CV,\n",
    "- Repeated 5-Fold CV, and\n",
    "- Leave One Out CV, \n",
    "\n",
    "and see which comes closest to estimating the final testing metrics (MSE and RMSE). \n",
    "\n",
    "\n",
    "#### Grading: There are eight (8) answers to provide, each worth 6 points.  (You get 2 points for free.)\n",
    " "
   ]
  },
  {
   "cell_type": "code",
   "execution_count": 50,
   "metadata": {},
   "outputs": [
    {
     "name": "stdout",
     "output_type": "stream",
     "text": [
      "Requirement already satisfied: kagglehub in /usr/local/python/3.12.1/lib/python3.12/site-packages (0.3.12)\n",
      "Requirement already satisfied: packaging in /home/codespace/.local/lib/python3.12/site-packages (from kagglehub) (24.2)\n",
      "Requirement already satisfied: pyyaml in /home/codespace/.local/lib/python3.12/site-packages (from kagglehub) (6.0.2)\n",
      "Requirement already satisfied: requests in /home/codespace/.local/lib/python3.12/site-packages (from kagglehub) (2.32.3)\n",
      "Requirement already satisfied: tqdm in /usr/local/python/3.12.1/lib/python3.12/site-packages (from kagglehub) (4.67.1)\n",
      "Requirement already satisfied: charset-normalizer<4,>=2 in /home/codespace/.local/lib/python3.12/site-packages (from requests->kagglehub) (3.4.1)\n",
      "Requirement already satisfied: idna<4,>=2.5 in /home/codespace/.local/lib/python3.12/site-packages (from requests->kagglehub) (3.10)\n",
      "Requirement already satisfied: urllib3<3,>=1.21.1 in /home/codespace/.local/lib/python3.12/site-packages (from requests->kagglehub) (2.3.0)\n",
      "Requirement already satisfied: certifi>=2017.4.17 in /home/codespace/.local/lib/python3.12/site-packages (from requests->kagglehub) (2025.1.31)\n",
      "\n",
      "\u001b[1m[\u001b[0m\u001b[34;49mnotice\u001b[0m\u001b[1;39;49m]\u001b[0m\u001b[39;49m A new release of pip is available: \u001b[0m\u001b[31;49m25.0.1\u001b[0m\u001b[39;49m -> \u001b[0m\u001b[32;49m25.1.1\u001b[0m\n",
      "\u001b[1m[\u001b[0m\u001b[34;49mnotice\u001b[0m\u001b[1;39;49m]\u001b[0m\u001b[39;49m To update, run: \u001b[0m\u001b[32;49mpython3 -m pip install --upgrade pip\u001b[0m\n"
     ]
    }
   ],
   "source": [
    "!pip install kagglehub"
   ]
  },
  {
   "cell_type": "code",
   "execution_count": 51,
   "metadata": {},
   "outputs": [],
   "source": [
    "# Useful imports\n",
    "\n",
    "import os\n",
    "import kagglehub\n",
    "import pandas as pd\n",
    "import numpy as np\n",
    "import matplotlib.pyplot as plt\n",
    "\n",
    "from sklearn.model_selection import train_test_split, cross_val_score, RepeatedKFold, LeaveOneOut\n",
    "from sklearn.linear_model    import LinearRegression\n",
    "from sklearn.preprocessing   import OrdinalEncoder, OneHotEncoder  \n",
    "from sklearn.impute          import SimpleImputer\n",
    "from sklearn.metrics         import mean_squared_error, r2_score\n",
    "from tqdm                    import tqdm\n",
    "\n",
    "random_seed = 42"
   ]
  },
  {
   "cell_type": "markdown",
   "metadata": {},
   "source": [
    "### Load the Ames Housing Dataset\n",
    "\n",
    "For a description of the features of this dataset, see the **Appendix**. "
   ]
  },
  {
   "cell_type": "code",
   "execution_count": 52,
   "metadata": {},
   "outputs": [
    {
     "name": "stdout",
     "output_type": "stream",
     "text": [
      "Path to dataset files: /home/codespace/.cache/kagglehub/datasets/shashanknecrothapa/ames-housing-dataset/versions/1\n"
     ]
    }
   ],
   "source": [
    "# Download the latest version of the dataset\n",
    "path = kagglehub.dataset_download(\"shashanknecrothapa/ames-housing-dataset\")\n",
    "\n",
    "print(\"Path to dataset files:\", path)\n",
    "\n",
    "# Construct the full path to the CSV file (update the file name if necessary)\n",
    "csv_file = os.path.join(path, \"AmesHousing.csv\")\n",
    "\n",
    "# Read the dataset into a DataFrame\n",
    "df = pd.read_csv(csv_file)"
   ]
  },
  {
   "cell_type": "code",
   "execution_count": 53,
   "metadata": {},
   "outputs": [
    {
     "data": {
      "text/html": [
       "<div>\n",
       "<style scoped>\n",
       "    .dataframe tbody tr th:only-of-type {\n",
       "        vertical-align: middle;\n",
       "    }\n",
       "\n",
       "    .dataframe tbody tr th {\n",
       "        vertical-align: top;\n",
       "    }\n",
       "\n",
       "    .dataframe thead th {\n",
       "        text-align: right;\n",
       "    }\n",
       "</style>\n",
       "<table border=\"1\" class=\"dataframe\">\n",
       "  <thead>\n",
       "    <tr style=\"text-align: right;\">\n",
       "      <th></th>\n",
       "      <th>Order</th>\n",
       "      <th>PID</th>\n",
       "      <th>MS SubClass</th>\n",
       "      <th>MS Zoning</th>\n",
       "      <th>Lot Frontage</th>\n",
       "      <th>Lot Area</th>\n",
       "      <th>Street</th>\n",
       "      <th>Alley</th>\n",
       "      <th>Lot Shape</th>\n",
       "      <th>Land Contour</th>\n",
       "      <th>...</th>\n",
       "      <th>Pool Area</th>\n",
       "      <th>Pool QC</th>\n",
       "      <th>Fence</th>\n",
       "      <th>Misc Feature</th>\n",
       "      <th>Misc Val</th>\n",
       "      <th>Mo Sold</th>\n",
       "      <th>Yr Sold</th>\n",
       "      <th>Sale Type</th>\n",
       "      <th>Sale Condition</th>\n",
       "      <th>SalePrice</th>\n",
       "    </tr>\n",
       "  </thead>\n",
       "  <tbody>\n",
       "    <tr>\n",
       "      <th>0</th>\n",
       "      <td>1</td>\n",
       "      <td>526301100</td>\n",
       "      <td>20</td>\n",
       "      <td>RL</td>\n",
       "      <td>141.0</td>\n",
       "      <td>31770</td>\n",
       "      <td>Pave</td>\n",
       "      <td>NaN</td>\n",
       "      <td>IR1</td>\n",
       "      <td>Lvl</td>\n",
       "      <td>...</td>\n",
       "      <td>0</td>\n",
       "      <td>NaN</td>\n",
       "      <td>NaN</td>\n",
       "      <td>NaN</td>\n",
       "      <td>0</td>\n",
       "      <td>5</td>\n",
       "      <td>2010</td>\n",
       "      <td>WD</td>\n",
       "      <td>Normal</td>\n",
       "      <td>215000</td>\n",
       "    </tr>\n",
       "    <tr>\n",
       "      <th>1</th>\n",
       "      <td>2</td>\n",
       "      <td>526350040</td>\n",
       "      <td>20</td>\n",
       "      <td>RH</td>\n",
       "      <td>80.0</td>\n",
       "      <td>11622</td>\n",
       "      <td>Pave</td>\n",
       "      <td>NaN</td>\n",
       "      <td>Reg</td>\n",
       "      <td>Lvl</td>\n",
       "      <td>...</td>\n",
       "      <td>0</td>\n",
       "      <td>NaN</td>\n",
       "      <td>MnPrv</td>\n",
       "      <td>NaN</td>\n",
       "      <td>0</td>\n",
       "      <td>6</td>\n",
       "      <td>2010</td>\n",
       "      <td>WD</td>\n",
       "      <td>Normal</td>\n",
       "      <td>105000</td>\n",
       "    </tr>\n",
       "    <tr>\n",
       "      <th>2</th>\n",
       "      <td>3</td>\n",
       "      <td>526351010</td>\n",
       "      <td>20</td>\n",
       "      <td>RL</td>\n",
       "      <td>81.0</td>\n",
       "      <td>14267</td>\n",
       "      <td>Pave</td>\n",
       "      <td>NaN</td>\n",
       "      <td>IR1</td>\n",
       "      <td>Lvl</td>\n",
       "      <td>...</td>\n",
       "      <td>0</td>\n",
       "      <td>NaN</td>\n",
       "      <td>NaN</td>\n",
       "      <td>Gar2</td>\n",
       "      <td>12500</td>\n",
       "      <td>6</td>\n",
       "      <td>2010</td>\n",
       "      <td>WD</td>\n",
       "      <td>Normal</td>\n",
       "      <td>172000</td>\n",
       "    </tr>\n",
       "    <tr>\n",
       "      <th>3</th>\n",
       "      <td>4</td>\n",
       "      <td>526353030</td>\n",
       "      <td>20</td>\n",
       "      <td>RL</td>\n",
       "      <td>93.0</td>\n",
       "      <td>11160</td>\n",
       "      <td>Pave</td>\n",
       "      <td>NaN</td>\n",
       "      <td>Reg</td>\n",
       "      <td>Lvl</td>\n",
       "      <td>...</td>\n",
       "      <td>0</td>\n",
       "      <td>NaN</td>\n",
       "      <td>NaN</td>\n",
       "      <td>NaN</td>\n",
       "      <td>0</td>\n",
       "      <td>4</td>\n",
       "      <td>2010</td>\n",
       "      <td>WD</td>\n",
       "      <td>Normal</td>\n",
       "      <td>244000</td>\n",
       "    </tr>\n",
       "    <tr>\n",
       "      <th>4</th>\n",
       "      <td>5</td>\n",
       "      <td>527105010</td>\n",
       "      <td>60</td>\n",
       "      <td>RL</td>\n",
       "      <td>74.0</td>\n",
       "      <td>13830</td>\n",
       "      <td>Pave</td>\n",
       "      <td>NaN</td>\n",
       "      <td>IR1</td>\n",
       "      <td>Lvl</td>\n",
       "      <td>...</td>\n",
       "      <td>0</td>\n",
       "      <td>NaN</td>\n",
       "      <td>MnPrv</td>\n",
       "      <td>NaN</td>\n",
       "      <td>0</td>\n",
       "      <td>3</td>\n",
       "      <td>2010</td>\n",
       "      <td>WD</td>\n",
       "      <td>Normal</td>\n",
       "      <td>189900</td>\n",
       "    </tr>\n",
       "  </tbody>\n",
       "</table>\n",
       "<p>5 rows × 82 columns</p>\n",
       "</div>"
      ],
      "text/plain": [
       "   Order        PID  MS SubClass MS Zoning  Lot Frontage  Lot Area Street  \\\n",
       "0      1  526301100           20        RL         141.0     31770   Pave   \n",
       "1      2  526350040           20        RH          80.0     11622   Pave   \n",
       "2      3  526351010           20        RL          81.0     14267   Pave   \n",
       "3      4  526353030           20        RL          93.0     11160   Pave   \n",
       "4      5  527105010           60        RL          74.0     13830   Pave   \n",
       "\n",
       "  Alley Lot Shape Land Contour  ... Pool Area Pool QC  Fence Misc Feature  \\\n",
       "0   NaN       IR1          Lvl  ...         0     NaN    NaN          NaN   \n",
       "1   NaN       Reg          Lvl  ...         0     NaN  MnPrv          NaN   \n",
       "2   NaN       IR1          Lvl  ...         0     NaN    NaN         Gar2   \n",
       "3   NaN       Reg          Lvl  ...         0     NaN    NaN          NaN   \n",
       "4   NaN       IR1          Lvl  ...         0     NaN  MnPrv          NaN   \n",
       "\n",
       "  Misc Val Mo Sold Yr Sold Sale Type  Sale Condition  SalePrice  \n",
       "0        0       5    2010       WD           Normal     215000  \n",
       "1        0       6    2010       WD           Normal     105000  \n",
       "2    12500       6    2010       WD           Normal     172000  \n",
       "3        0       4    2010       WD           Normal     244000  \n",
       "4        0       3    2010       WD           Normal     189900  \n",
       "\n",
       "[5 rows x 82 columns]"
      ]
     },
     "execution_count": 53,
     "metadata": {},
     "output_type": "execute_result"
    }
   ],
   "source": [
    "# Print the first few rows of the DataFrame\n",
    "df.head()"
   ]
  },
  {
   "cell_type": "code",
   "execution_count": 54,
   "metadata": {},
   "outputs": [],
   "source": [
    "# To see the listing of features\n",
    "\n",
    "# df.info()"
   ]
  },
  {
   "cell_type": "code",
   "execution_count": 55,
   "metadata": {},
   "outputs": [
    {
     "name": "stdout",
     "output_type": "stream",
     "text": [
      "Feature Histograms\n"
     ]
    },
    {
     "data": {
      "image/png": "[encoded data removed]",
      "text/plain": [
       "<Figure size 1500x1300 with 42 Axes>"
      ]
     },
     "metadata": {},
     "output_type": "display_data"
    }
   ],
   "source": [
    "# To see the feature histograms\n",
    "\n",
    "print(\"Feature Histograms\")\n",
    "df.hist(figsize=(15, 13), bins=30)  # Adjust figure size and number of bins\n",
    "plt.tight_layout()  # Adjust spacing to prevent overlap\n",
    "plt.show()"
   ]
  },
  {
   "cell_type": "markdown",
   "metadata": {},
   "source": [
    "### Data Preprocessing\n",
    "\n",
    "First, let's remove the features that are clearly not useful for regression: the row-number `Order` and the Parcel Identification Number `PID`."
   ]
  },
  {
   "cell_type": "code",
   "execution_count": 56,
   "metadata": {},
   "outputs": [
    {
     "data": {
      "text/html": [
       "<div>\n",
       "<style scoped>\n",
       "    .dataframe tbody tr th:only-of-type {\n",
       "        vertical-align: middle;\n",
       "    }\n",
       "\n",
       "    .dataframe tbody tr th {\n",
       "        vertical-align: top;\n",
       "    }\n",
       "\n",
       "    .dataframe thead th {\n",
       "        text-align: right;\n",
       "    }\n",
       "</style>\n",
       "<table border=\"1\" class=\"dataframe\">\n",
       "  <thead>\n",
       "    <tr style=\"text-align: right;\">\n",
       "      <th></th>\n",
       "      <th>MS SubClass</th>\n",
       "      <th>MS Zoning</th>\n",
       "      <th>Lot Frontage</th>\n",
       "      <th>Lot Area</th>\n",
       "      <th>Street</th>\n",
       "      <th>Alley</th>\n",
       "      <th>Lot Shape</th>\n",
       "      <th>Land Contour</th>\n",
       "      <th>Utilities</th>\n",
       "      <th>Lot Config</th>\n",
       "      <th>...</th>\n",
       "      <th>Pool Area</th>\n",
       "      <th>Pool QC</th>\n",
       "      <th>Fence</th>\n",
       "      <th>Misc Feature</th>\n",
       "      <th>Misc Val</th>\n",
       "      <th>Mo Sold</th>\n",
       "      <th>Yr Sold</th>\n",
       "      <th>Sale Type</th>\n",
       "      <th>Sale Condition</th>\n",
       "      <th>SalePrice</th>\n",
       "    </tr>\n",
       "  </thead>\n",
       "  <tbody>\n",
       "    <tr>\n",
       "      <th>0</th>\n",
       "      <td>20</td>\n",
       "      <td>RL</td>\n",
       "      <td>141.0</td>\n",
       "      <td>31770</td>\n",
       "      <td>Pave</td>\n",
       "      <td>NaN</td>\n",
       "      <td>IR1</td>\n",
       "      <td>Lvl</td>\n",
       "      <td>AllPub</td>\n",
       "      <td>Corner</td>\n",
       "      <td>...</td>\n",
       "      <td>0</td>\n",
       "      <td>NaN</td>\n",
       "      <td>NaN</td>\n",
       "      <td>NaN</td>\n",
       "      <td>0</td>\n",
       "      <td>5</td>\n",
       "      <td>2010</td>\n",
       "      <td>WD</td>\n",
       "      <td>Normal</td>\n",
       "      <td>215000</td>\n",
       "    </tr>\n",
       "    <tr>\n",
       "      <th>1</th>\n",
       "      <td>20</td>\n",
       "      <td>RH</td>\n",
       "      <td>80.0</td>\n",
       "      <td>11622</td>\n",
       "      <td>Pave</td>\n",
       "      <td>NaN</td>\n",
       "      <td>Reg</td>\n",
       "      <td>Lvl</td>\n",
       "      <td>AllPub</td>\n",
       "      <td>Inside</td>\n",
       "      <td>...</td>\n",
       "      <td>0</td>\n",
       "      <td>NaN</td>\n",
       "      <td>MnPrv</td>\n",
       "      <td>NaN</td>\n",
       "      <td>0</td>\n",
       "      <td>6</td>\n",
       "      <td>2010</td>\n",
       "      <td>WD</td>\n",
       "      <td>Normal</td>\n",
       "      <td>105000</td>\n",
       "    </tr>\n",
       "    <tr>\n",
       "      <th>2</th>\n",
       "      <td>20</td>\n",
       "      <td>RL</td>\n",
       "      <td>81.0</td>\n",
       "      <td>14267</td>\n",
       "      <td>Pave</td>\n",
       "      <td>NaN</td>\n",
       "      <td>IR1</td>\n",
       "      <td>Lvl</td>\n",
       "      <td>AllPub</td>\n",
       "      <td>Corner</td>\n",
       "      <td>...</td>\n",
       "      <td>0</td>\n",
       "      <td>NaN</td>\n",
       "      <td>NaN</td>\n",
       "      <td>Gar2</td>\n",
       "      <td>12500</td>\n",
       "      <td>6</td>\n",
       "      <td>2010</td>\n",
       "      <td>WD</td>\n",
       "      <td>Normal</td>\n",
       "      <td>172000</td>\n",
       "    </tr>\n",
       "    <tr>\n",
       "      <th>3</th>\n",
       "      <td>20</td>\n",
       "      <td>RL</td>\n",
       "      <td>93.0</td>\n",
       "      <td>11160</td>\n",
       "      <td>Pave</td>\n",
       "      <td>NaN</td>\n",
       "      <td>Reg</td>\n",
       "      <td>Lvl</td>\n",
       "      <td>AllPub</td>\n",
       "      <td>Corner</td>\n",
       "      <td>...</td>\n",
       "      <td>0</td>\n",
       "      <td>NaN</td>\n",
       "      <td>NaN</td>\n",
       "      <td>NaN</td>\n",
       "      <td>0</td>\n",
       "      <td>4</td>\n",
       "      <td>2010</td>\n",
       "      <td>WD</td>\n",
       "      <td>Normal</td>\n",
       "      <td>244000</td>\n",
       "    </tr>\n",
       "    <tr>\n",
       "      <th>4</th>\n",
       "      <td>60</td>\n",
       "      <td>RL</td>\n",
       "      <td>74.0</td>\n",
       "      <td>13830</td>\n",
       "      <td>Pave</td>\n",
       "      <td>NaN</td>\n",
       "      <td>IR1</td>\n",
       "      <td>Lvl</td>\n",
       "      <td>AllPub</td>\n",
       "      <td>Inside</td>\n",
       "      <td>...</td>\n",
       "      <td>0</td>\n",
       "      <td>NaN</td>\n",
       "      <td>MnPrv</td>\n",
       "      <td>NaN</td>\n",
       "      <td>0</td>\n",
       "      <td>3</td>\n",
       "      <td>2010</td>\n",
       "      <td>WD</td>\n",
       "      <td>Normal</td>\n",
       "      <td>189900</td>\n",
       "    </tr>\n",
       "  </tbody>\n",
       "</table>\n",
       "<p>5 rows × 80 columns</p>\n",
       "</div>"
      ],
      "text/plain": [
       "   MS SubClass MS Zoning  Lot Frontage  Lot Area Street Alley Lot Shape  \\\n",
       "0           20        RL         141.0     31770   Pave   NaN       IR1   \n",
       "1           20        RH          80.0     11622   Pave   NaN       Reg   \n",
       "2           20        RL          81.0     14267   Pave   NaN       IR1   \n",
       "3           20        RL          93.0     11160   Pave   NaN       Reg   \n",
       "4           60        RL          74.0     13830   Pave   NaN       IR1   \n",
       "\n",
       "  Land Contour Utilities Lot Config  ... Pool Area Pool QC  Fence  \\\n",
       "0          Lvl    AllPub     Corner  ...         0     NaN    NaN   \n",
       "1          Lvl    AllPub     Inside  ...         0     NaN  MnPrv   \n",
       "2          Lvl    AllPub     Corner  ...         0     NaN    NaN   \n",
       "3          Lvl    AllPub     Corner  ...         0     NaN    NaN   \n",
       "4          Lvl    AllPub     Inside  ...         0     NaN  MnPrv   \n",
       "\n",
       "  Misc Feature Misc Val Mo Sold  Yr Sold  Sale Type  Sale Condition  SalePrice  \n",
       "0          NaN        0       5     2010        WD           Normal     215000  \n",
       "1          NaN        0       6     2010        WD           Normal     105000  \n",
       "2         Gar2    12500       6     2010        WD           Normal     172000  \n",
       "3          NaN        0       4     2010        WD           Normal     244000  \n",
       "4          NaN        0       3     2010        WD           Normal     189900  \n",
       "\n",
       "[5 rows x 80 columns]"
      ]
     },
     "execution_count": 56,
     "metadata": {},
     "output_type": "execute_result"
    }
   ],
   "source": [
    "df_clean = df.drop(columns=['Order','PID'])\n",
    "df_clean.head()"
   ]
  },
  {
   "cell_type": "markdown",
   "metadata": {},
   "source": [
    "### Problem One: Dealing with Null Values\n",
    "\n",
    "There are basically two strategies for dealing with missing (null or `NaN`) values:\n",
    "- Get them out of your dataset by **removing** features and/or samples containing too many nulls.\n",
    "- **Impute** values by replacing nulls with the mean, median, or other \"neutral\" value computed from the feature.\n",
    "\n",
    "**Note:** It is also possible to impute values using more advanced techniques such as mode imputation, forward/backward fill, or predictive modeling (e.g., KNN or regression-based imputation). These more advanced techniques might be useful when you start to work on your project. "
   ]
  },
  {
   "cell_type": "markdown",
   "metadata": {},
   "source": [
    "**First we will explore how many null values occur in each feature.**"
   ]
  },
  {
   "cell_type": "code",
   "execution_count": 57,
   "metadata": {},
   "outputs": [],
   "source": [
    "# Although the info method above shows us which features have missing values and how many aren't missing,\n",
    "# this function will provide more details about the missing values. \n",
    "\n",
    "def show_null_counts_features(df):\n",
    "    # Count the nulls and calculate the %\n",
    "    count_nulls = df.isnull().sum()\n",
    "    df_nulls = (df.isnull().mean() * 100).round(2)\n",
    "    \n",
    "    # Determine if the column is numeric or non-numeric\n",
    "    feature_types = df.dtypes.apply(lambda x: 'Numeric' if np.issubdtype(x, np.number) else 'Categorical')\n",
    "    \n",
    "    # Filter out the columns with missing values and sort them in descending order\n",
    "    missing_data = pd.DataFrame({\n",
    "        'Feature': count_nulls[count_nulls > 0].index,\n",
    "        '# Null Values': count_nulls[count_nulls > 0].values, \n",
    "        'Null %': df_nulls[df_nulls > 0].values,\n",
    "        'Type': feature_types[count_nulls > 0].values\n",
    "    }).sort_values(by='Null %', ascending=False)\n",
    "    \n",
    "    print(f'The dataset contains {len(df)} samples.\\n')\n",
    "\n",
    "    if (len(missing_data) == 0):\n",
    "        print(\"There are no null values in the dataset!\")\n",
    "    else:\n",
    "        # Print null value stats\n",
    "        print('Feature Name    # Nulls      Null %    Type')\n",
    "        print('------------    -------      ------    ----')\n",
    "        for index, row in missing_data.iterrows():\n",
    "            print(f\"{row['Feature']:<15} {row['# Null Values']:<12} {row['Null %']:.2f}%   {row['Type']}\")\n",
    "\n",
    "\n",
    "# Uncomment to see results\n",
    "            \n",
    "#show_null_counts_features(df_clean)"
   ]
  },
  {
   "cell_type": "code",
   "execution_count": 58,
   "metadata": {},
   "outputs": [
    {
     "name": "stdout",
     "output_type": "stream",
     "text": [
      "The dataset contains 2930 samples.\n",
      "\n",
      "Feature Name    # Nulls      Null %    Type\n",
      "------------    -------      ------    ----\n",
      "Pool QC         2917         99.56%   Categorical\n",
      "Misc Feature    2824         96.38%   Categorical\n",
      "Alley           2732         93.24%   Categorical\n",
      "Fence           2358         80.48%   Categorical\n",
      "Mas Vnr Type    1775         60.58%   Categorical\n",
      "Fireplace Qu    1422         48.53%   Categorical\n",
      "Lot Frontage    490          16.72%   Numeric\n",
      "Garage Qual     159          5.43%   Categorical\n",
      "Garage Cond     159          5.43%   Categorical\n",
      "Garage Yr Blt   159          5.43%   Numeric\n",
      "Garage Finish   159          5.43%   Categorical\n",
      "Garage Type     157          5.36%   Categorical\n",
      "Bsmt Exposure   83           2.83%   Categorical\n",
      "BsmtFin Type 2  81           2.76%   Categorical\n",
      "Bsmt Cond       80           2.73%   Categorical\n",
      "Bsmt Qual       80           2.73%   Categorical\n",
      "BsmtFin Type 1  80           2.73%   Categorical\n",
      "Mas Vnr Area    23           0.78%   Numeric\n",
      "Bsmt Full Bath  2            0.07%   Numeric\n",
      "Bsmt Half Bath  2            0.07%   Numeric\n",
      "BsmtFin SF 1    1            0.03%   Numeric\n",
      "BsmtFin SF 2    1            0.03%   Numeric\n",
      "Electrical      1            0.03%   Categorical\n",
      "Total Bsmt SF   1            0.03%   Numeric\n",
      "Bsmt Unf SF     1            0.03%   Numeric\n",
      "Garage Area     1            0.03%   Numeric\n",
      "Garage Cars     1            0.03%   Numeric\n"
     ]
    }
   ],
   "source": [
    "show_null_counts_features(df_clean)"
   ]
  },
  {
   "cell_type": "markdown",
   "metadata": {},
   "source": [
    "### Part A\n",
    "\n",
    "Clearly, some of these features are not very informative! Let's drop the worst offenders!\n",
    "\n",
    "**Fill in your code after the comments below to drop any features with more than `max_nulls` null values.**\n"
   ]
  },
  {
   "cell_type": "code",
   "execution_count": 59,
   "metadata": {},
   "outputs": [
    {
     "name": "stdout",
     "output_type": "stream",
     "text": [
      "Null counts per column:\n",
      " Order               0\n",
      "PID                 0\n",
      "MS SubClass         0\n",
      "MS Zoning           0\n",
      "Lot Frontage      490\n",
      "                 ... \n",
      "Mo Sold             0\n",
      "Yr Sold             0\n",
      "Sale Type           0\n",
      "Sale Condition      0\n",
      "SalePrice           0\n",
      "Length: 82, dtype: int64\n"
     ]
    }
   ],
   "source": [
    "max_nulls = 500      # we will drop any features with more than max_nulls missing values\n",
    "\n",
    "# Count null values per column\n",
    "null_counts = df.isnull().sum()\n",
    "\n",
    "# to check\n",
    "print(\"Null counts per column:\\n\", null_counts)\n",
    "\n",
    "# Filter out columns where null count exceeds max_nulls\n",
    "columns_to_drop = null_counts[null_counts > max_nulls].index\n",
    "\n",
    "# Drop the columns\n",
    "df_clean = df.drop(columns=columns_to_drop)\n",
    "\n",
    "# Uncomment to verify they were removed\n",
    "\n",
    "# show_null_counts_features(df_clean)"
   ]
  },
  {
   "cell_type": "markdown",
   "metadata": {},
   "source": [
    "### Graded Question\n",
    "\n",
    "Assign `a1a` to the number of cells that were dropped"
   ]
  },
  {
   "cell_type": "code",
   "execution_count": 60,
   "metadata": {},
   "outputs": [],
   "source": [
    "# Your answer here; use an expression, not a constant derived by examining the data\n",
    "\n",
    "a1a = df.shape[0] * len(columns_to_drop)                     # replace 0 with an expression"
   ]
  },
  {
   "cell_type": "code",
   "execution_count": 61,
   "metadata": {},
   "outputs": [
    {
     "name": "stdout",
     "output_type": "stream",
     "text": [
      "a1a = 17580\n"
     ]
    }
   ],
   "source": [
    "# Do not change this cell in any way\n",
    "\n",
    "print(f\"a1a = {a1a}\")                 "
   ]
  },
  {
   "cell_type": "markdown",
   "metadata": {},
   "source": [
    "### Part B:  Feature Transformations for Imputing Null Values\n",
    "\n",
    "Now let's perform the following feature transformations:\n",
    "\n",
    "- For categorical features, we'll replace null values with the most frequent category in that column\n",
    "- For numeric features, we'll replace nulls with the median for that feature \n",
    "\n",
    "\n",
    "This is very simple to do with a couple of lines of Python, but naturally we want to use `sklearn` functions whenever we can, so we'll use ` SimpleImputer`.\n",
    "\n",
    "**Go read the doc page for `SimpleImputer` before proceeding.**"
   ]
  },
  {
   "cell_type": "markdown",
   "metadata": {},
   "source": [
    "### Imputing Categorical Features using the Most Frequent Strategy"
   ]
  },
  {
   "cell_type": "markdown",
   "metadata": {},
   "source": [
    "In the next cell you see how easy it is to examine the categories. **Take a moment and explore several of the categorical features.**  In this dataset, most of them are skewed, with a clear \"most favorite\" category. \n",
    "(If the feature values are not skewed, then you could change these to a new category \"Unknown\".)"
   ]
  },
  {
   "cell_type": "code",
   "execution_count": 62,
   "metadata": {},
   "outputs": [
    {
     "data": {
      "text/plain": [
       "Garage Qual\n",
       "TA     2615\n",
       "NaN     159\n",
       "Fa      124\n",
       "Gd       24\n",
       "Po        5\n",
       "Ex        3\n",
       "Name: count, dtype: int64"
      ]
     },
     "execution_count": 62,
     "metadata": {},
     "output_type": "execute_result"
    }
   ],
   "source": [
    "df_clean['Garage Qual'].value_counts(dropna=False)"
   ]
  },
  {
   "cell_type": "markdown",
   "metadata": {},
   "source": [
    "Before proceeding, let's get lists of the two types of features."
   ]
  },
  {
   "cell_type": "code",
   "execution_count": 63,
   "metadata": {},
   "outputs": [],
   "source": [
    "# Identify categorical and numeric features\n",
    "\n",
    "categorical_features = df_clean.select_dtypes(exclude=['number']).columns.tolist()\n",
    "numeric_features     = df_clean.select_dtypes(include=['number']).columns.tolist()\n",
    "\n",
    "# Uncomment to print results\n",
    "\n",
    "# print(\"Categorical Features:\", categorical_features)\n",
    "# print()\n",
    "# print(\"Numeric Features:\", numeric_features)"
   ]
  },
  {
   "cell_type": "code",
   "execution_count": 64,
   "metadata": {},
   "outputs": [
    {
     "name": "stdout",
     "output_type": "stream",
     "text": [
      "Categorical Features: ['MS Zoning', 'Street', 'Lot Shape', 'Land Contour', 'Utilities', 'Lot Config', 'Land Slope', 'Neighborhood', 'Condition 1', 'Condition 2', 'Bldg Type', 'House Style', 'Roof Style', 'Roof Matl', 'Exterior 1st', 'Exterior 2nd', 'Exter Qual', 'Exter Cond', 'Foundation', 'Bsmt Qual', 'Bsmt Cond', 'Bsmt Exposure', 'BsmtFin Type 1', 'BsmtFin Type 2', 'Heating', 'Heating QC', 'Central Air', 'Electrical', 'Kitchen Qual', 'Functional', 'Garage Type', 'Garage Finish', 'Garage Qual', 'Garage Cond', 'Paved Drive', 'Sale Type', 'Sale Condition']\n",
      "\n",
      "Numeric Features: ['Order', 'PID', 'MS SubClass', 'Lot Frontage', 'Lot Area', 'Overall Qual', 'Overall Cond', 'Year Built', 'Year Remod/Add', 'Mas Vnr Area', 'BsmtFin SF 1', 'BsmtFin SF 2', 'Bsmt Unf SF', 'Total Bsmt SF', '1st Flr SF', '2nd Flr SF', 'Low Qual Fin SF', 'Gr Liv Area', 'Bsmt Full Bath', 'Bsmt Half Bath', 'Full Bath', 'Half Bath', 'Bedroom AbvGr', 'Kitchen AbvGr', 'TotRms AbvGrd', 'Fireplaces', 'Garage Yr Blt', 'Garage Cars', 'Garage Area', 'Wood Deck SF', 'Open Porch SF', 'Enclosed Porch', '3Ssn Porch', 'Screen Porch', 'Pool Area', 'Misc Val', 'Mo Sold', 'Yr Sold', 'SalePrice']\n"
     ]
    }
   ],
   "source": [
    "print(\"Categorical Features:\", categorical_features)\n",
    "print()\n",
    "print(\"Numeric Features:\", numeric_features)"
   ]
  },
  {
   "cell_type": "markdown",
   "metadata": {},
   "source": [
    "**Now you must impute all the categorical features using `SimpleImputer` with the `most_frequent` strategy.**"
   ]
  },
  {
   "cell_type": "code",
   "execution_count": 65,
   "metadata": {},
   "outputs": [
    {
     "name": "stdout",
     "output_type": "stream",
     "text": [
      "\n",
      "⚠️ Still missing values in categorical columns: ['MS Zoning', 'Street', 'Lot Shape', 'Land Contour', 'Utilities', 'Lot Config', 'Land Slope', 'Neighborhood', 'Condition 1', 'Condition 2', 'Bldg Type', 'House Style', 'Roof Style', 'Roof Matl', 'Exterior 1st', 'Exterior 2nd', 'Exter Qual', 'Exter Cond', 'Foundation', 'Bsmt Qual', 'Bsmt Cond', 'Bsmt Exposure', 'BsmtFin Type 1', 'BsmtFin Type 2', 'Heating', 'Heating QC', 'Central Air', 'Electrical', 'Kitchen Qual', 'Functional', 'Garage Type', 'Garage Finish', 'Garage Qual', 'Garage Cond', 'Paved Drive', 'Sale Type', 'Sale Condition']\n"
     ]
    }
   ],
   "source": [
    "# First make a copy of the cleaned dataset\n",
    "df_imputed = df_clean.copy()\n",
    "\n",
    "# Impute categorical columns (using most frequent category)\n",
    "cat_imputer = SimpleImputer(strategy='most_frequent')\n",
    "df_imputed[categorical_features] = cat_imputer.fit_transform(df_imputed[categorical_features])\n",
    "\n",
    "# Verify: only numeric features should appear\n",
    "non_numeric_with_nulls = [col for col in null_counts.index if col in categorical_features]\n",
    "\n",
    "if non_numeric_with_nulls:\n",
    "    print(\"\\n⚠️ Still missing values in categorical columns:\", non_numeric_with_nulls)\n",
    "else:\n",
    "    print(\"\\n✅ All missing values are only in numeric columns.\")\n",
    "    \n",
    "# show_null_counts_features(df_imputed)"
   ]
  },
  {
   "cell_type": "markdown",
   "metadata": {},
   "source": [
    "### Graded Question\n",
    "\n",
    "Set `a1b` to the number of occurrences of the category `TA` in the feature `Garage Qual`. \n",
    "It should have increased from before the imputation, because `NaN` values were changed to `TA`"
   ]
  },
  {
   "cell_type": "code",
   "execution_count": 66,
   "metadata": {},
   "outputs": [],
   "source": [
    "# Your answer here; use an expression, not a constant derived by examining the data\n",
    "\n",
    "a1b = (df_imputed['Garage Qual'] == 'TA').sum()                        # replace 0 with an expression"
   ]
  },
  {
   "cell_type": "code",
   "execution_count": 67,
   "metadata": {},
   "outputs": [
    {
     "name": "stdout",
     "output_type": "stream",
     "text": [
      "a1b = 2774\n"
     ]
    }
   ],
   "source": [
    "# Do not change this cell in any way\n",
    "\n",
    "print(f\"a1b = {a1b}\")                 "
   ]
  },
  {
   "cell_type": "markdown",
   "metadata": {},
   "source": [
    "### Part C:  Imputing Numeric Features using the Median\n",
    "\n",
    "Now you must \"simply impute\" values for the missing numeric features using the `median` strategy. "
   ]
  },
  {
   "cell_type": "code",
   "execution_count": 68,
   "metadata": {},
   "outputs": [
    {
     "name": "stdout",
     "output_type": "stream",
     "text": [
      "✅ No null values remain in df_imputed.\n"
     ]
    }
   ],
   "source": [
    "# Impute numeric columns (using the median)\n",
    "\n",
    "num_imputer = SimpleImputer(strategy='median')\n",
    "df_imputed[numeric_features] = num_imputer.fit_transform(df_imputed[numeric_features])\n",
    "\n",
    "# Verify: There should be no null values\n",
    "total_nulls = df_imputed.isnull().sum().sum()\n",
    "\n",
    "if total_nulls == 0:\n",
    "    print(\"✅ No null values remain in df_imputed.\")\n",
    "else:\n",
    "    print(f\"⚠️ There are still {total_nulls} null values remaining.\")\n",
    "# show_null_counts_features(df_imputed)"
   ]
  },
  {
   "cell_type": "markdown",
   "metadata": {},
   "source": [
    "### Graded Question\n",
    "\n",
    "Set `a1c` to the number of rows with missing values.  Should be 0."
   ]
  },
  {
   "cell_type": "code",
   "execution_count": 69,
   "metadata": {},
   "outputs": [],
   "source": [
    "# Your answer here; use an expression, not a constant derived by examining the data\n",
    "\n",
    "a1c = df_imputed.isnull().any(axis=1).sum()                        # replace ... with an expression"
   ]
  },
  {
   "cell_type": "code",
   "execution_count": 70,
   "metadata": {},
   "outputs": [
    {
     "name": "stdout",
     "output_type": "stream",
     "text": [
      "a1c = 0\n"
     ]
    }
   ],
   "source": [
    "# Do not change this cell in any way\n",
    "\n",
    "print(f\"a1c = {a1c}\")                 "
   ]
  },
  {
   "cell_type": "markdown",
   "metadata": {},
   "source": [
    "### Part D:   Ordinal Encoding the categorical features with OrdinalEncoder\n",
    "\n",
    "The simplest option in dealing with categorical values is to represent them by integers 0, 1, 2, etc.\n",
    "\n",
    "**Before proceeding, read the doc page on `sklearn`'s `OrdinalEncoder`.**\n",
    "\n",
    "Follow the comments to perform this feature transformation.\n",
    "\n",
    "#### Note: Do not simply apply the `OrdinalEncoder` to the entire dataframe, as it will also encode the numeric features!\n",
    "#### You can solve this using the same approach as the transformation in the previous problem. "
   ]
  },
  {
   "cell_type": "code",
   "execution_count": 71,
   "metadata": {},
   "outputs": [
    {
     "name": "stdout",
     "output_type": "stream",
     "text": [
      "<class 'pandas.core.frame.DataFrame'>\n",
      "RangeIndex: 2930 entries, 0 to 2929\n",
      "Data columns (total 75 columns):\n",
      " #   Column           Non-Null Count  Dtype  \n",
      "---  ------           --------------  -----  \n",
      " 0   MS Zoning        2930 non-null   float64\n",
      " 1   Street           2930 non-null   float64\n",
      " 2   Lot Shape        2930 non-null   float64\n",
      " 3   Land Contour     2930 non-null   float64\n",
      " 4   Utilities        2930 non-null   float64\n",
      " 5   Lot Config       2930 non-null   float64\n",
      " 6   Land Slope       2930 non-null   float64\n",
      " 7   Neighborhood     2930 non-null   float64\n",
      " 8   Condition 1      2930 non-null   float64\n",
      " 9   Condition 2      2930 non-null   float64\n",
      " 10  Bldg Type        2930 non-null   float64\n",
      " 11  House Style      2930 non-null   float64\n",
      " 12  Roof Style       2930 non-null   float64\n",
      " 13  Roof Matl        2930 non-null   float64\n",
      " 14  Exterior 1st     2930 non-null   float64\n",
      " 15  Exterior 2nd     2930 non-null   float64\n",
      " 16  Exter Qual       2930 non-null   float64\n",
      " 17  Exter Cond       2930 non-null   float64\n",
      " 18  Foundation       2930 non-null   float64\n",
      " 19  Bsmt Qual        2930 non-null   float64\n",
      " 20  Bsmt Cond        2930 non-null   float64\n",
      " 21  Bsmt Exposure    2930 non-null   float64\n",
      " 22  BsmtFin Type 1   2930 non-null   float64\n",
      " 23  BsmtFin Type 2   2930 non-null   float64\n",
      " 24  Heating          2930 non-null   float64\n",
      " 25  Heating QC       2930 non-null   float64\n",
      " 26  Central Air      2930 non-null   float64\n",
      " 27  Electrical       2930 non-null   float64\n",
      " 28  Kitchen Qual     2930 non-null   float64\n",
      " 29  Functional       2930 non-null   float64\n",
      " 30  Garage Type      2930 non-null   float64\n",
      " 31  Garage Finish    2930 non-null   float64\n",
      " 32  Garage Qual      2930 non-null   float64\n",
      " 33  Garage Cond      2930 non-null   float64\n",
      " 34  Paved Drive      2930 non-null   float64\n",
      " 35  Sale Type        2930 non-null   float64\n",
      " 36  Sale Condition   2930 non-null   float64\n",
      " 37  Order            2930 non-null   float64\n",
      " 38  PID              2930 non-null   float64\n",
      " 39  MS SubClass      2930 non-null   float64\n",
      " 40  Lot Frontage     2930 non-null   float64\n",
      " 41  Lot Area         2930 non-null   float64\n",
      " 42  Overall Qual     2930 non-null   float64\n",
      " 43  Overall Cond     2930 non-null   float64\n",
      " 44  Year Built       2930 non-null   float64\n",
      " 45  Year Remod/Add   2930 non-null   float64\n",
      " 46  Mas Vnr Area     2930 non-null   float64\n",
      " 47  BsmtFin SF 1     2930 non-null   float64\n",
      " 48  BsmtFin SF 2     2930 non-null   float64\n",
      " 49  Bsmt Unf SF      2930 non-null   float64\n",
      " 50  Total Bsmt SF    2930 non-null   float64\n",
      " 51  1st Flr SF       2930 non-null   float64\n",
      " 52  2nd Flr SF       2930 non-null   float64\n",
      " 53  Low Qual Fin SF  2930 non-null   float64\n",
      " 54  Gr Liv Area      2930 non-null   float64\n",
      " 55  Bsmt Full Bath   2930 non-null   float64\n",
      " 56  Bsmt Half Bath   2930 non-null   float64\n",
      " 57  Full Bath        2930 non-null   float64\n",
      " 58  Half Bath        2930 non-null   float64\n",
      " 59  Bedroom AbvGr    2930 non-null   float64\n",
      " 60  Kitchen AbvGr    2930 non-null   float64\n",
      " 61  TotRms AbvGrd    2930 non-null   float64\n",
      " 62  Fireplaces       2930 non-null   float64\n",
      " 63  Garage Yr Blt    2930 non-null   float64\n",
      " 64  Garage Cars      2930 non-null   float64\n",
      " 65  Garage Area      2930 non-null   float64\n",
      " 66  Wood Deck SF     2930 non-null   float64\n",
      " 67  Open Porch SF    2930 non-null   float64\n",
      " 68  Enclosed Porch   2930 non-null   float64\n",
      " 69  3Ssn Porch       2930 non-null   float64\n",
      " 70  Screen Porch     2930 non-null   float64\n",
      " 71  Pool Area        2930 non-null   float64\n",
      " 72  Misc Val         2930 non-null   float64\n",
      " 73  Mo Sold          2930 non-null   float64\n",
      " 74  Yr Sold          2930 non-null   float64\n",
      "dtypes: float64(75)\n",
      "memory usage: 1.7 MB\n"
     ]
    }
   ],
   "source": [
    "# Put df_imputed in the form X, y\n",
    "X = df_imputed.drop(columns=['SalePrice'])\n",
    "y = df_imputed['SalePrice']\n",
    "numeric_features = [col for col in numeric_features if col != 'SalePrice']\n",
    "# Initialize OrdinalEncoder\n",
    "encoder = OrdinalEncoder()\n",
    "X_cat_encoded = encoder.fit_transform(X[categorical_features])\n",
    "# Convert back to DataFrame to retain column names \n",
    "X_cat_encoded_df = pd.DataFrame(X_cat_encoded, columns=categorical_features, index=X.index)\n",
    "X = pd.concat([X_cat_encoded_df, X[numeric_features]], axis=1)\n",
    "\n",
    "# # Verify: all Dtypes should be float64\n",
    "\n",
    "X.info()"
   ]
  },
  {
   "cell_type": "markdown",
   "metadata": {},
   "source": [
    "### Graded Question\n",
    "\n",
    "Set `a1d` to the number of categories imputed for `Lot Shape`. Hint: Just take the `len(...)` of the unique values in the newly-computed feature."
   ]
  },
  {
   "cell_type": "code",
   "execution_count": 72,
   "metadata": {},
   "outputs": [],
   "source": [
    "# Your answer here; use an expression, not a constant derived by examining the data\n",
    "\n",
    "a1d = len(X['Lot Shape'].unique())                         # replace 0 with an expression"
   ]
  },
  {
   "cell_type": "code",
   "execution_count": 73,
   "metadata": {},
   "outputs": [
    {
     "name": "stdout",
     "output_type": "stream",
     "text": [
      "a1d = 4\n"
     ]
    }
   ],
   "source": [
    "# Do not change this cell in any way\n",
    "\n",
    "print(f\"a1d = {a1d}\")                 "
   ]
  },
  {
   "cell_type": "markdown",
   "metadata": {},
   "source": [
    "## Problem Two:  Train and Test a Regression Model with Cross-Validation\n",
    "\n",
    "In this problem, we will perform a regression on the Ames Housing Dataset using several different cross-validation\n",
    "strategies, comparing the cross-validation score for each with the final testing MSE, to see which provides the best\n",
    "estimate of the final test score, and hence of the model's ability to generalize. \n",
    "\n",
    "\n",
    "We shall compare each of the following cross-validation MSEs with the final test MSE score:\n",
    "\n",
    "- 5-Fold Cross-Validation (default)\n",
    "- Repeated 5-Fold Cross-Validation (repeated 100 times)\n",
    "- Leave-One-Out Cross Validation\n"
   ]
  },
  {
   "cell_type": "markdown",
   "metadata": {},
   "source": [
    "### Part A: 5-Fold Cross-Validation\n",
    "\n",
    "For this part\n",
    "- Create a train-test split with `test_size=0.2` and `random_state=random_seed`\n",
    "- Create a linear model and perform K-fold cross-validation with K = 5 and using `scoring='neg_mean_squared_error'` (remember to take the mean of the CV scores and negate the result, since scoring uses a negative MSE). \n",
    "- Report the\n",
    "    - CV score (negated mean of MSE measurements over all K folds)\n",
    "    - Test MSE\n",
    "\n",
    "\n",
    "Use `random_state = random_seed` for all experiments. "
   ]
  },
  {
   "cell_type": "code",
   "execution_count": 74,
   "metadata": {},
   "outputs": [
    {
     "name": "stdout",
     "output_type": "stream",
     "text": [
      "Cross-Validation MSE: 989597258.9633\n",
      "Test MSE: 1110353275.8733\n"
     ]
    }
   ],
   "source": [
    "# Your code here, add additional code cells if you wish\n",
    "random_seed = 42\n",
    "X_train, X_test, y_train, y_test = train_test_split(X, y, test_size=0.2, random_state=random_seed)\n",
    "\n",
    "model = LinearRegression()\n",
    "\n",
    "cv_scores = cross_val_score(model, X_train, y_train, cv=5, scoring='neg_mean_squared_error')\n",
    "\n",
    "cv_score = -cv_scores.mean()\n",
    "\n",
    "model.fit(X_train, y_train)\n",
    "y_pred = model.predict(X_test)\n",
    "test_mse = mean_squared_error(y_test, y_pred)\n",
    "\n",
    "print(f\"Cross-Validation MSE: {cv_score:.4f}\")\n",
    "print(f\"Test MSE: {test_mse:.4f}\")"
   ]
  },
  {
   "cell_type": "markdown",
   "metadata": {},
   "source": [
    "### Graded Question\n",
    "\n",
    "Set `a2a` to the Test MSE. "
   ]
  },
  {
   "cell_type": "code",
   "execution_count": 75,
   "metadata": {},
   "outputs": [],
   "source": [
    "# Your answer here; use an expression, not a constant derived by examining the data\n",
    "\n",
    "a2a = mean_squared_error(y_test, y_pred)                         # replace 0 with an expression"
   ]
  },
  {
   "cell_type": "code",
   "execution_count": 76,
   "metadata": {},
   "outputs": [
    {
     "name": "stdout",
     "output_type": "stream",
     "text": [
      "a2a = 1110353275.8733\n"
     ]
    }
   ],
   "source": [
    "# Do not change this cell in any way\n",
    "\n",
    "print(f\"a2a = {a2a:.4f}\")                 "
   ]
  },
  {
   "cell_type": "markdown",
   "metadata": {},
   "source": [
    "## Part B: Perform Repeated 5-Fold Cross Validation\n",
    "\n",
    "Read the doc page on `sklearn`'s `RepeatedKFold` for cross validation; repeat the CV calculation with K = 5 and `n_repeats=100`\n",
    "and report the CV score (negated mean of MSE measurements over all 100*K folds)"
   ]
  },
  {
   "cell_type": "code",
   "execution_count": 77,
   "metadata": {},
   "outputs": [
    {
     "name": "stdout",
     "output_type": "stream",
     "text": [
      "Repeated K-Fold CV MSE (100×5 folds): 1075069782.3164\n"
     ]
    }
   ],
   "source": [
    "# Your code here; add additional cells if you wish\n",
    "model = LinearRegression()\n",
    "rkf = RepeatedKFold(n_splits=5, n_repeats=100, random_state=random_seed)\n",
    "cv_scores = cross_val_score(model, X_train, y_train, cv=rkf, scoring='neg_mean_squared_error')\n",
    "cv_score_repeated = -cv_scores.mean()\n",
    "print(f\"Repeated K-Fold CV MSE (100×5 folds): {cv_score_repeated:.4f}\")"
   ]
  },
  {
   "cell_type": "markdown",
   "metadata": {},
   "source": [
    "### Graded Question\n",
    "\n",
    "Set `a2b` to the mean CV score for the repeated K-fold experiment.\n",
    "\n",
    "Note: if your CV score is negative, go back and read the instructions for Part A again"
   ]
  },
  {
   "cell_type": "code",
   "execution_count": 78,
   "metadata": {},
   "outputs": [],
   "source": [
    "# Your answer here; use an expression, not a constant derived by examining the data\n",
    "\n",
    "a2b = -cv_scores.mean()                        # replace 0 with an expression"
   ]
  },
  {
   "cell_type": "code",
   "execution_count": 79,
   "metadata": {},
   "outputs": [
    {
     "name": "stdout",
     "output_type": "stream",
     "text": [
      "a2b = 1075069782.3164\n"
     ]
    }
   ],
   "source": [
    "# Do not change this cell in any way\n",
    "\n",
    "print(f\"a2b = {a2b:.4f}\")                 "
   ]
  },
  {
   "cell_type": "markdown",
   "metadata": {},
   "source": [
    "## Part C: Perform Leave One Out Cross Validation\n",
    "\n",
    "This is simply a matter of setting `cv=LeaveOneOut()`. Run the same experiment and report the CV score. It may take a few minutes to run. "
   ]
  },
  {
   "cell_type": "code",
   "execution_count": 80,
   "metadata": {},
   "outputs": [
    {
     "name": "stdout",
     "output_type": "stream",
     "text": [
      "Leave-One-Out CV MSE: 1051284800.7074\n"
     ]
    }
   ],
   "source": [
    "# Your code here; add additional cells if you wish\n",
    "loo = LeaveOneOut()\n",
    "\n",
    "cv_scores = cross_val_score(\n",
    "    LinearRegression(),\n",
    "    X_train,\n",
    "    y_train,\n",
    "    cv=loo,\n",
    "    scoring='neg_mean_squared_error'\n",
    ")\n",
    "\n",
    "cv_score_loo = -cv_scores.mean()\n",
    "\n",
    "print(f\"Leave-One-Out CV MSE: {cv_score_loo:.4f}\")"
   ]
  },
  {
   "cell_type": "markdown",
   "metadata": {},
   "source": [
    "### Graded Question\n",
    "\n",
    "Set `a2c` to the mean CV score for the leave-one-out experiment.\n"
   ]
  },
  {
   "cell_type": "code",
   "execution_count": 81,
   "metadata": {},
   "outputs": [],
   "source": [
    "# Your answer here; use an expression, not a constant derived by examining the data\n",
    "\n",
    "a2c = -cv_scores.mean()                        # replace 0 with an expression"
   ]
  },
  {
   "cell_type": "code",
   "execution_count": 82,
   "metadata": {},
   "outputs": [
    {
     "name": "stdout",
     "output_type": "stream",
     "text": [
      "a2c = 1051284800.7074\n"
     ]
    }
   ],
   "source": [
    "# Do not change this cell in any way\n",
    "\n",
    "print(f\"a2c = {a2c:.4f}\")                 "
   ]
  },
  {
   "cell_type": "markdown",
   "metadata": {},
   "source": [
    "### Part D\n",
    "\n",
    "Now, in order to help interpret the results, print out a table of the **square roots** of each of the CV scores (the RMSEs) and the final test RMSE; we can then see the result in the same units (dollars) as the target, instead of the units of the MSE (dollars squared).\n",
    "\n",
    "Hint: Here is an example of how to print out values as currency:\n",
    "\n",
    "    cost = 23512.23\n",
    "    print(f\"cost: ${cost:,.2f}\")"
   ]
  },
  {
   "cell_type": "code",
   "execution_count": 83,
   "metadata": {},
   "outputs": [
    {
     "name": "stdout",
     "output_type": "stream",
     "text": [
      "Root Mean Squared Errors (RMSEs):\n",
      "5-Fold CV RMSE:         $31,457.86\n",
      "Repeated K-Fold CV RMSE:$32,788.26\n",
      "Leave-One-Out CV RMSE:  $32,423.52\n",
      "Test Set RMSE:          $33,321.96\n"
     ]
    }
   ],
   "source": [
    "# Your code here\n",
    "rmse_cv_kfold       = np.sqrt(cv_score)          \n",
    "rmse_cv_repeated    = np.sqrt(a2b)               \n",
    "rmse_cv_loocv       = np.sqrt(a2c)               \n",
    "rmse_test           = np.sqrt(a2a)               \n",
    "\n",
    "print(\"Root Mean Squared Errors (RMSEs):\")\n",
    "print(f\"5-Fold CV RMSE:         ${rmse_cv_kfold:,.2f}\")\n",
    "print(f\"Repeated K-Fold CV RMSE:${rmse_cv_repeated:,.2f}\")\n",
    "print(f\"Leave-One-Out CV RMSE:  ${rmse_cv_loocv:,.2f}\")\n",
    "print(f\"Test Set RMSE:          ${rmse_test:,.2f}\")"
   ]
  },
  {
   "cell_type": "markdown",
   "metadata": {},
   "source": [
    "### Graded Question\n",
    "\n",
    "Set `a2d` to the letter of the strategy which was closest to the Test RMSE. \n",
    "\n",
    "Should be 1 = 5-fold CV; 2 = Repeated 5-Fold CV; or 3 = LOO CV "
   ]
  },
  {
   "cell_type": "code",
   "execution_count": 84,
   "metadata": {},
   "outputs": [],
   "source": [
    "# Your answer here\n",
    "\n",
    "a2d = 2                       # Should be 1 = 5-fold CV; 2 = Repeated 5-Fold CV; or 3 = LOO CV  "
   ]
  },
  {
   "cell_type": "code",
   "execution_count": 85,
   "metadata": {},
   "outputs": [
    {
     "name": "stdout",
     "output_type": "stream",
     "text": [
      "a2d = 2\n"
     ]
    }
   ],
   "source": [
    "# Do not change this cell in any way\n",
    "\n",
    "print(f\"a2d = {a2d}\")                 "
   ]
  },
  {
   "cell_type": "markdown",
   "metadata": {},
   "source": [
    "## Appendix: Explanation of Features in Ames Housing Dataset\n",
    "\n",
    "### **Identification**\n",
    "- `PID` → Parcel Identification Number (unique identifier for each property)\n",
    "- `Order` → Row number (used for indexing, not a feature)\n",
    "\n",
    "---\n",
    "\n",
    "### **Sale Information**\n",
    "- `SalePrice` → The final selling price of the house in USD (**Target variable**)\n",
    "- `Mo Sold` → Month the house was sold (1 = January, ..., 12 = December)\n",
    "- `Yr Sold` → Year the house was sold\n",
    "- `Sale Type` → Type of sale (e.g., **WD** = Warranty Deed, **New** = Newly Built)\n",
    "- `Sale Condition` → Condition of the sale (e.g., **Normal**, **Abnormal**, **Partial** for incomplete homes)\n",
    "\n",
    "---\n",
    "\n",
    "### **General Property Information**\n",
    "- `MS SubClass` → Type of dwelling (e.g., **20 = 1-story**, **60 = 2-story**, **120 = Townhouse**)\n",
    "- `MS Zoning` → Zoning classification (e.g., **RL = Residential Low Density**, **C = Commercial**)\n",
    "- `Lot Frontage` → Linear feet of street connected to property\n",
    "- `Lot Area` → Total size of the lot in square feet\n",
    "- `Neighborhood` → Physical locations within Ames (e.g., **CollgCr = College Creek**)\n",
    "- `Condition 1` / `Condition 2` → Proximity to roads or railroads (e.g., **Norm = Normal**, **PosN = Near Park**)\n",
    "\n",
    "---\n",
    "\n",
    "### **Building & House Design**\n",
    "- `Bldg Type` → Type of dwelling (e.g., **1Fam = Single Family**, **Twnhs = Townhouse**)\n",
    "- `House Style` → Style of the house (e.g., **1Story = One Story**, **2Story = Two Story**, **SplitFoyer**)\n",
    "- `Overall Qual` → Overall quality of materials (scale: **1 = Very Poor** to **10 = Excellent**)\n",
    "- `Overall Cond` → Overall condition of the house (scale: **1 = Very Poor** to **10 = Excellent**)\n",
    "\n",
    "---\n",
    "\n",
    "### **Year Built & Remodel**\n",
    "- `Year Built` → Original construction year\n",
    "- `Year Remod/Add` → Year of last remodel or addition\n",
    "\n",
    "---\n",
    "\n",
    "### **Exterior Features**\n",
    "- `Exterior 1st` / `Exterior 2nd` → Exterior covering material (e.g., **VinylSd = Vinyl Siding**, **HdBoard = Hardboard**)\n",
    "- `Mas Vnr Type` → Masonry veneer type (e.g., **BrkFace = Brick Face**, **None = No Veneer**)\n",
    "- `Mas Vnr Area` → Area of masonry veneer in square feet\n",
    "\n",
    "---\n",
    "\n",
    "### **Basement Features**\n",
    "- `Bsmt Qual` → Basement height (e.g., **Ex = Excellent**, **TA = Typical**, **Po = Poor**)\n",
    "- `Bsmt Cond` → General condition of the basement\n",
    "- `Bsmt Exposure` → Walkout or garden level basement?\n",
    "- `BsmtFin Type 1` / `BsmtFin SF 1` → Primary finished area in basement (e.g., **GLQ = Good Living Quarters**)\n",
    "- `BsmtFin Type 2` / `BsmtFin SF 2` → Secondary finished area\n",
    "- `Bsmt Unf SF` → Unfinished square feet in basement\n",
    "- `Total Bsmt SF` → Total square footage of basement\n",
    "\n",
    "---\n",
    "\n",
    "### **Utilities & HVAC**\n",
    "- `Heating` → Type of heating system (e.g., **GasA = Gas Forced Air**, **OthW = Hot Water Heating**)\n",
    "- `Heating QC` → Quality of heating system (e.g., **Ex = Excellent**, **Fa = Fair**)\n",
    "- `Central Air` → **Y = Yes**, **N = No**\n",
    "- `Electrical` → Electrical system (e.g., **SBrkr = Standard Breaker**, **FuseA = Fuse Box**)\n",
    "\n",
    "---\n",
    "\n",
    "### **Above Ground Living Area**\n",
    "- `1st Flr SF` → First-floor square footage\n",
    "- `2nd Flr SF` → Second-floor square footage\n",
    "- `Gr Liv Area` → Total **above-ground** living area in square feet\n",
    "- `Low Qual Fin SF` → Low-quality finished square feet (e.g., unfinished rooms)\n",
    "\n",
    "---\n",
    "\n",
    "### **Bathrooms & Bedrooms**\n",
    "- `Full Bath` → Full bathrooms above ground\n",
    "- `Half Bath` → Half bathrooms above ground\n",
    "- `Bsmt Full Bath` → Full bathrooms in basement\n",
    "- `Bsmt Half Bath` → Half bathrooms in basement\n",
    "- `Bedroom AbvGr` → Number of bedrooms above ground\n",
    "- `Kitchen AbvGr` → Number of kitchens above ground\n",
    "- `Kitchen Qual` → Kitchen quality (**Ex = Excellent**, **Fa = Fair**)\n",
    "\n",
    "---\n",
    "\n",
    "### **Garage Features**\n",
    "- `Garage Type` → Type of garage (e.g., **Attchd = Attached**, **Detchd = Detached**)\n",
    "- `Garage Yr Blt` → Year garage was built\n",
    "- `Garage Finish` → Interior finish of garage\n",
    "- `Garage Cars` → Size of garage in car capacity\n",
    "- `Garage Area` → Garage size in square feet\n",
    "\n",
    "---\n",
    "\n",
    "### **Additional Features**\n",
    "- `Fireplaces` → Number of fireplaces\n",
    "- `Fireplace Qu` → Fireplace quality\n",
    "- `Paved Drive` → Paved driveway? (**Y = Yes, P = Partial, N = No**)\n",
    "- `Wood Deck SF` → Square footage of wood deck\n",
    "- `Open Porch SF` → Square footage of open porch\n",
    "- `Enclosed Porch` → Square footage of enclosed porch\n",
    "- `Screen Porch` → Square footage of screened porch\n",
    "- `Pool Area` → Pool area in square feet\n",
    "- `Misc Val` → Miscellaneous features (e.g., shed value)\n",
    "\n"
   ]
  }
 ],
 "metadata": {
  "kernelspec": {
   "display_name": "Python 3",
   "language": "python",
   "name": "python3"
  },
  "language_info": {
   "codemirror_mode": {
    "name": "ipython",
    "version": 3
   },
   "file_extension": ".py",
   "mimetype": "text/x-python",
   "name": "python",
   "nbconvert_exporter": "python",
   "pygments_lexer": "ipython3",
   "version": "3.12.1"
  }
 },
 "nbformat": 4,
 "nbformat_minor": 4
}
